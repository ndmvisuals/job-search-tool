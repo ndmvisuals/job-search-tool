{
 "cells": [
  {
   "cell_type": "code",
   "execution_count": 49,
   "metadata": {},
   "outputs": [],
   "source": [
    "import pandas as pd\n",
    "import requests\n",
    "from bs4 import BeautifulSoup\n",
    "\n",
    "\n",
    "from selenium import webdriver\n",
    "from selenium.webdriver.chrome.options import Options\n",
    "from selenium.webdriver.common.by import By\n",
    "from selenium.webdriver.support.ui import WebDriverWait\n",
    "from selenium.webdriver.support import expected_conditions as EC\n",
    "from webdriver_manager.chrome import ChromeDriverManager\n",
    "import time\n",
    "import json\n",
    "from tqdm import tqdm\n"
   ]
  },
  {
   "cell_type": "code",
   "execution_count": 2,
   "metadata": {},
   "outputs": [],
   "source": [
    "url = \"https://washpost.wd5.myworkdayjobs.com/washingtonpostcareers/jobs\"\n"
   ]
  },
  {
   "cell_type": "code",
   "execution_count": 3,
   "metadata": {},
   "outputs": [],
   "source": [
    "def scrape_requests(url):\n",
    "    page = requests.get(url)\n",
    "    if page.status_code == 200:\n",
    "        soup = BeautifulSoup(page.text, 'html.parser')\n",
    "        return (soup)\n",
    "    else:\n",
    "        return(f\"Error: {page.status_code}\")    \n",
    "\n",
    "def scrape_selenium(driver, url):\n",
    "    driver.get(url)\n",
    "    html = driver.page_source\n",
    "    soup = BeautifulSoup(html, 'html.parser')\n",
    "    return(soup)\n",
    "\n",
    "def selenium_driver():\n",
    "    chrome_options = Options()\n",
    "    driver = webdriver.Chrome(\n",
    "            ChromeDriverManager().install(),\n",
    "            options=chrome_options\n",
    "            )\n",
    "   \n",
    "    return(driver)"
   ]
  },
  {
   "cell_type": "code",
   "execution_count": 4,
   "metadata": {},
   "outputs": [
    {
     "name": "stderr",
     "output_type": "stream",
     "text": [
      "\n",
      "\n",
      "====== WebDriver manager ======\n",
      "Current google-chrome version is 100.0.4896\n",
      "Get LATEST chromedriver version for 100.0.4896 google-chrome\n",
      "Driver [C:\\Users\\nicho\\.wdm\\drivers\\chromedriver\\win32\\100.0.4896.60\\chromedriver.exe] found in cache\n",
      "C:\\Users\\nicho\\AppData\\Local\\Temp\\ipykernel_27368\\2012268719.py:2: DeprecationWarning: executable_path has been deprecated, please pass in a Service object\n",
      "  driver = webdriver.Chrome(\n"
     ]
    }
   ],
   "source": [
    "chrome_options = Options()\n",
    "driver = webdriver.Chrome(\n",
    "        ChromeDriverManager().install(),\n",
    "        options=chrome_options\n",
    "        )"
   ]
  },
  {
   "cell_type": "code",
   "execution_count": 23,
   "metadata": {},
   "outputs": [],
   "source": [
    "def click(driver, by_locator):\n",
    "        WebDriverWait(driver, 10).until(EC.visibility_of_element_located(by_locator)).click()\n",
    "\n",
    "def is_visible(driver,by_locator):\n",
    "        element=WebDriverWait(driver, 10).until(EC.visibility_of_element_located(by_locator))\n",
    "        return bool(element)"
   ]
  },
  {
   "cell_type": "markdown",
   "metadata": {},
   "source": [
    "## Washington Post"
   ]
  },
  {
   "cell_type": "markdown",
   "metadata": {},
   "source": [
    "### Define Locators"
   ]
  },
  {
   "cell_type": "code",
   "execution_count": 25,
   "metadata": {},
   "outputs": [],
   "source": [
    "NEXT_BUTTON=(By.XPATH,\"//*[@aria-label='next']\")\n",
    "JOBS=(By.XPATH,\"//*[@data-automation-id='jobTitle']\")\n",
    "JOB_TIME = (By.XPATH,\"//*[@data-automation-id='time']\")\n",
    "\n"
   ]
  },
  {
   "cell_type": "markdown",
   "metadata": {},
   "source": [
    "### Get All Job Links"
   ]
  },
  {
   "cell_type": "code",
   "execution_count": 14,
   "metadata": {},
   "outputs": [
    {
     "name": "stdout",
     "output_type": "stream",
     "text": [
      "This was the last page\n"
     ]
    }
   ],
   "source": [
    "page_to_click = True\n",
    "job_links = []\n",
    "counter = 1\n",
    "while page_to_click == True:\n",
    "    if counter == 1:\n",
    "        url = \"https://washpost.wd5.myworkdayjobs.com/washingtonpostcareers/jobs\"\n",
    "        driver.get(url)\n",
    "    else:\n",
    "        try:\n",
    "            click(driver, NEXT_BUTTON)\n",
    "            time.sleep(2)\n",
    "        except:\n",
    "            print(\"This was the last page\")\n",
    "            page_to_click = False\n",
    "            break\n",
    "\n",
    "\n",
    "    try:\n",
    "        is_visible(driver, JOBS)\n",
    "        html = driver.page_source\n",
    "        soup = BeautifulSoup(html, 'html.parser')\n",
    "        job_list_chunk = soup.find(\"section\", {\"data-automation-id\": \"jobResults\"})\n",
    "        url_chunks = job_list_chunk.find_all(\"a\", {\"data-automation-id\": \"jobTitle\"})\n",
    "        for url_chunk in url_chunks:\n",
    "            start_url = \"https://washpost.wd5.myworkdayjobs.com\"\n",
    "            end_url = url_chunk[\"href\"]\n",
    "            url = f\"{start_url}{end_url}\"\n",
    "            job_links.append(url)\n",
    "        counter = counter + 1\n",
    "        \n",
    "        \n",
    "        \n",
    "    except:\n",
    "        print(\"Page didn't load\")\n",
    "        page_to_click = False      "
   ]
  },
  {
   "cell_type": "markdown",
   "metadata": {},
   "source": [
    "### Scrape Information on All Jobs"
   ]
  },
  {
   "cell_type": "code",
   "execution_count": 50,
   "metadata": {},
   "outputs": [
    {
     "name": "stderr",
     "output_type": "stream",
     "text": [
      "100%|██████████| 156/156 [03:31<00:00,  1.35s/it]\n"
     ]
    }
   ],
   "source": [
    "wapo_jobs = []\n",
    "for url in tqdm(job_links):\n",
    "\n",
    "    driver.get(url)\n",
    "    is_visible(driver, JOB_TIME)\n",
    "    html = driver.page_source\n",
    "    soup = BeautifulSoup(html, 'html.parser')\n",
    "\n",
    "    try:\n",
    "        job_location = soup.find(\"div\", {\"data-automation-id\": \"locations\"}).text.split(\"locations\")[1]\n",
    "    except: \n",
    "        job_location = \"NA\"\n",
    "    try:\n",
    "        job_duration= soup.find(\"div\", {\"data-automation-id\": \"time\"}).text.split(\"time type\")[1]\n",
    "    except: \n",
    "        job_duration = \"NA\"\n",
    "    try:\n",
    "        job_title= soup.find(\"h2\", {\"data-automation-id\": \"jobPostingHeader\"}).text\n",
    "    except: \n",
    "        job_title = \"NA\"\n",
    "    try:\n",
    "        json_script = soup.find(\"script\", {\"type\":\"application/ld+json\"}).text\n",
    "        json_info = json.loads(json_script)\n",
    "        date_posted = json_info[\"datePosted\"]\n",
    "    except: \n",
    "        date_posted = \"NA\"\n",
    "\n",
    "    job = {\"company\": \"The Washington Post\", \"job_title\": job_title,\"job_location\":job_location, \"job_duration\": job_duration, \"date_posted\": date_posted, \"url\":url, }\n",
    "    wapo_jobs.append(job)\n"
   ]
  },
  {
   "cell_type": "markdown",
   "metadata": {},
   "source": [
    "### Save and Export"
   ]
  },
  {
   "cell_type": "code",
   "execution_count": 52,
   "metadata": {},
   "outputs": [],
   "source": [
    "df_wapo_jobs = pd.DataFrame(wapo_jobs)"
   ]
  },
  {
   "cell_type": "code",
   "execution_count": 47,
   "metadata": {},
   "outputs": [],
   "source": [
    "\n"
   ]
  },
  {
   "cell_type": "code",
   "execution_count": 13,
   "metadata": {},
   "outputs": [
    {
     "data": {
      "text/plain": [
       "156"
      ]
     },
     "execution_count": 13,
     "metadata": {},
     "output_type": "execute_result"
    }
   ],
   "source": []
  }
 ],
 "metadata": {
  "interpreter": {
   "hash": "63fd5069d213b44bf678585dea6b12cceca9941eaf7f819626cde1f2670de90d"
  },
  "kernelspec": {
   "display_name": "Python 3.9.5 64-bit (system)",
   "language": "python",
   "name": "python3"
  },
  "language_info": {
   "codemirror_mode": {
    "name": "ipython",
    "version": 3
   },
   "file_extension": ".py",
   "mimetype": "text/x-python",
   "name": "python",
   "nbconvert_exporter": "python",
   "pygments_lexer": "ipython3",
   "version": "3.10.0"
  },
  "orig_nbformat": 4
 },
 "nbformat": 4,
 "nbformat_minor": 2
}
