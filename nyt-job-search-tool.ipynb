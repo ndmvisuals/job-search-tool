{
 "cells": [
  {
   "cell_type": "code",
   "execution_count": 112,
   "metadata": {},
   "outputs": [],
   "source": [
    "import pandas as pd\n",
    "import requests\n",
    "from bs4 import BeautifulSoup\n",
    "\n",
    "\n",
    "from selenium import webdriver\n",
    "from selenium.webdriver.chrome.options import Options\n",
    "from selenium.webdriver.common.by import By\n",
    "from selenium.webdriver.support.ui import WebDriverWait\n",
    "from selenium.webdriver.support import expected_conditions as EC\n",
    "from webdriver_manager.chrome import ChromeDriverManager\n",
    "import time\n",
    "import json\n",
    "from tqdm import tqdm\n",
    "from selenium.webdriver import ActionChains\n"
   ]
  },
  {
   "cell_type": "code",
   "execution_count": 113,
   "metadata": {},
   "outputs": [],
   "source": [
    "url = \"https://nytimes.wd5.myworkdayjobs.com/NYT\"\n"
   ]
  },
  {
   "cell_type": "code",
   "execution_count": 114,
   "metadata": {},
   "outputs": [],
   "source": [
    "def scrape_requests(url):\n",
    "    page = requests.get(url)\n",
    "    if page.status_code == 200:\n",
    "        soup = BeautifulSoup(page.text, 'html.parser')\n",
    "        return (soup)\n",
    "    else:\n",
    "        return(f\"Error: {page.status_code}\")    \n",
    "\n",
    "def scrape_selenium(driver, url):\n",
    "    driver.get(url)\n",
    "    html = driver.page_source\n",
    "    soup = BeautifulSoup(html, 'html.parser')\n",
    "    return(soup)\n",
    "\n",
    "def selenium_driver():\n",
    "    chrome_options = Options()\n",
    "    driver = webdriver.Chrome(\n",
    "            ChromeDriverManager().install(),\n",
    "            options=chrome_options\n",
    "            )\n",
    "   \n",
    "    return(driver)"
   ]
  },
  {
   "cell_type": "code",
   "execution_count": 115,
   "metadata": {},
   "outputs": [
    {
     "name": "stderr",
     "output_type": "stream",
     "text": [
      "\n",
      "\n",
      "====== WebDriver manager ======\n",
      "Current google-chrome version is 100.0.4896\n",
      "Get LATEST chromedriver version for 100.0.4896 google-chrome\n",
      "Driver [C:\\Users\\nicho\\.wdm\\drivers\\chromedriver\\win32\\100.0.4896.60\\chromedriver.exe] found in cache\n",
      "C:\\Users\\nicho\\AppData\\Local\\Temp\\ipykernel_33208\\236333329.py:3: DeprecationWarning: executable_path has been deprecated, please pass in a Service object\n",
      "  driver = webdriver.Chrome(\n"
     ]
    }
   ],
   "source": [
    "chrome_options = Options()\n",
    "chrome_options.add_argument(\"--headless\")\n",
    "driver = webdriver.Chrome(\n",
    "        ChromeDriverManager().install(),\n",
    "        options=chrome_options\n",
    "        )"
   ]
  },
  {
   "cell_type": "code",
   "execution_count": 116,
   "metadata": {},
   "outputs": [],
   "source": [
    "def click(driver, by_locator):\n",
    "        WebDriverWait(driver, 10).until(EC.visibility_of_element_located(by_locator)).click()\n",
    "\n",
    "def is_visible(driver,by_locator):\n",
    "        element=WebDriverWait(driver, 10).until(EC.visibility_of_element_located(by_locator))\n",
    "        return bool(element)"
   ]
  },
  {
   "cell_type": "markdown",
   "metadata": {},
   "source": [
    "## NYT"
   ]
  },
  {
   "cell_type": "markdown",
   "metadata": {},
   "source": [
    "### Define Locators"
   ]
  },
  {
   "cell_type": "code",
   "execution_count": 5,
   "metadata": {},
   "outputs": [],
   "source": [
    "#MORE_JOBS_BUTTON=(By.XPATH,\"//*[@id='LoadMoreJobs']\")\n",
    "#OPPORTUNITY_SUMMARY = (By.XPATH, \"//*[@aria-live='polite']\" )\n",
    "\n",
    "\n"
   ]
  },
  {
   "cell_type": "code",
   "execution_count": 117,
   "metadata": {},
   "outputs": [],
   "source": [
    "driver.get(url)\n",
    "time.sleep(5)"
   ]
  },
  {
   "cell_type": "code",
   "execution_count": 118,
   "metadata": {},
   "outputs": [],
   "source": [
    "SCROLL_PAUSE_TIME = 5\n",
    "\n",
    "# Get scroll height\n",
    "last_height = driver.execute_script(\"return document.body.scrollHeight\")\n",
    "\n",
    "while True:\n",
    "    # Scroll down to bottom\n",
    "    driver.execute_script(\"window.scrollTo(0, document.body.scrollHeight);\")\n",
    "\n",
    "    # Wait to load page\n",
    "    time.sleep(SCROLL_PAUSE_TIME)\n",
    "\n",
    "    # Calculate new scroll height and compare with last scroll height\n",
    "    new_height = driver.execute_script(\"return document.body.scrollHeight\")\n",
    "    if new_height == last_height:\n",
    "        break\n",
    "    last_height = new_height"
   ]
  },
  {
   "cell_type": "code",
   "execution_count": 119,
   "metadata": {},
   "outputs": [
    {
     "name": "stdout",
     "output_type": "stream",
     "text": [
      "371\n"
     ]
    }
   ],
   "source": [
    "html = driver.page_source\n",
    "soup = BeautifulSoup(html, 'html.parser')\n",
    "\n",
    "\n",
    "job_list_chunk = soup.find(\"div\", {\"class\": [\"WFPO\", \"WJOO\"]})\n",
    "ls_jobs = job_list_chunk.find_all(\"div\", {\"data-automation-id\":\"promptOption\"})  \n",
    "print(len(ls_jobs))"
   ]
  },
  {
   "cell_type": "code",
   "execution_count": 149,
   "metadata": {},
   "outputs": [
    {
     "name": "stderr",
     "output_type": "stream",
     "text": [
      " 23%|██▎       | 86/371 [23:06<1:16:36, 16.13s/it]  \n"
     ]
    },
    {
     "ename": "WebDriverException",
     "evalue": "Message: chrome not reachable\n  (Session info: chrome=100.0.4896.127)\nStacktrace:\nBacktrace:\n\tOrdinal0 [0x00727413+2389011]\n\tOrdinal0 [0x006B9F61+1941345]\n\tOrdinal0 [0x005AC520+836896]\n\tOrdinal0 [0x005A0682+788098]\n\tOrdinal0 [0x005940F1+737521]\n\tOrdinal0 [0x005FB12E+1159470]\n\tOrdinal0 [0x005F4113+1130771]\n\tOrdinal0 [0x005CE546+976198]\n\tOrdinal0 [0x005CF456+980054]\n\tGetHandleVerifier [0x008D9632+1727522]\n\tGetHandleVerifier [0x0098BA4D+2457661]\n\tGetHandleVerifier [0x007BEB81+569713]\n\tGetHandleVerifier [0x007BDD76+566118]\n\tOrdinal0 [0x006C0B2B+1968939]\n\tOrdinal0 [0x006C5988+1989000]\n\tOrdinal0 [0x006C5A75+1989237]\n\tOrdinal0 [0x006CECB1+2026673]\n\tBaseThreadInitThunk [0x768D6739+25]\n\tRtlGetFullPathName_UEx [0x77338E7F+1215]\n\tRtlGetFullPathName_UEx [0x77338E4D+1165]\n",
     "output_type": "error",
     "traceback": [
      "\u001b[1;31m---------------------------------------------------------------------------\u001b[0m",
      "\u001b[1;31mWebDriverException\u001b[0m                        Traceback (most recent call last)",
      "\u001b[1;32mc:\\Users\\nicho\\Documents\\GitHub\\job-search-tool\\nyt-job-search-tool.ipynb Cell 12'\u001b[0m in \u001b[0;36m<cell line: 2>\u001b[1;34m()\u001b[0m\n\u001b[0;32m     <a href='vscode-notebook-cell:/c%3A/Users/nicho/Documents/GitHub/job-search-tool/nyt-job-search-tool.ipynb#ch0000025?line=10'>11</a>\u001b[0m actionChain\u001b[39m.\u001b[39mclick(elem2)\u001b[39m.\u001b[39mperform()\n\u001b[0;32m     <a href='vscode-notebook-cell:/c%3A/Users/nicho/Documents/GitHub/job-search-tool/nyt-job-search-tool.ipynb#ch0000025?line=11'>12</a>\u001b[0m time\u001b[39m.\u001b[39msleep(\u001b[39m2\u001b[39m)\n\u001b[1;32m---> <a href='vscode-notebook-cell:/c%3A/Users/nicho/Documents/GitHub/job-search-tool/nyt-job-search-tool.ipynb#ch0000025?line=12'>13</a>\u001b[0m windows \u001b[39m=\u001b[39m driver\u001b[39m.\u001b[39;49mwindow_handles\n\u001b[0;32m     <a href='vscode-notebook-cell:/c%3A/Users/nicho/Documents/GitHub/job-search-tool/nyt-job-search-tool.ipynb#ch0000025?line=13'>14</a>\u001b[0m parent \u001b[39m=\u001b[39m windows[\u001b[39m0\u001b[39m]\n\u001b[0;32m     <a href='vscode-notebook-cell:/c%3A/Users/nicho/Documents/GitHub/job-search-tool/nyt-job-search-tool.ipynb#ch0000025?line=14'>15</a>\u001b[0m child \u001b[39m=\u001b[39m windows[\u001b[39m1\u001b[39m]\n",
      "File \u001b[1;32m~\\.virtualenvs\\job-search_tool-FrUff0x-\\lib\\site-packages\\selenium\\webdriver\\remote\\webdriver.py:977\u001b[0m, in \u001b[0;36mWebDriver.window_handles\u001b[1;34m(self)\u001b[0m\n\u001b[0;32m    <a href='file:///c%3A/Users/nicho/.virtualenvs/job-search_tool-FrUff0x-/lib/site-packages/selenium/webdriver/remote/webdriver.py?line=966'>967</a>\u001b[0m \u001b[39m@property\u001b[39m\n\u001b[0;32m    <a href='file:///c%3A/Users/nicho/.virtualenvs/job-search_tool-FrUff0x-/lib/site-packages/selenium/webdriver/remote/webdriver.py?line=967'>968</a>\u001b[0m \u001b[39mdef\u001b[39;00m \u001b[39mwindow_handles\u001b[39m(\u001b[39mself\u001b[39m) \u001b[39m-\u001b[39m\u001b[39m>\u001b[39m List[\u001b[39mstr\u001b[39m]:\n\u001b[0;32m    <a href='file:///c%3A/Users/nicho/.virtualenvs/job-search_tool-FrUff0x-/lib/site-packages/selenium/webdriver/remote/webdriver.py?line=968'>969</a>\u001b[0m     \u001b[39m\"\"\"\u001b[39;00m\n\u001b[0;32m    <a href='file:///c%3A/Users/nicho/.virtualenvs/job-search_tool-FrUff0x-/lib/site-packages/selenium/webdriver/remote/webdriver.py?line=969'>970</a>\u001b[0m \u001b[39m    Returns the handles of all windows within the current session.\u001b[39;00m\n\u001b[0;32m    <a href='file:///c%3A/Users/nicho/.virtualenvs/job-search_tool-FrUff0x-/lib/site-packages/selenium/webdriver/remote/webdriver.py?line=970'>971</a>\u001b[0m \n\u001b[1;32m   (...)\u001b[0m\n\u001b[0;32m    <a href='file:///c%3A/Users/nicho/.virtualenvs/job-search_tool-FrUff0x-/lib/site-packages/selenium/webdriver/remote/webdriver.py?line=974'>975</a>\u001b[0m \u001b[39m            driver.window_handles\u001b[39;00m\n\u001b[0;32m    <a href='file:///c%3A/Users/nicho/.virtualenvs/job-search_tool-FrUff0x-/lib/site-packages/selenium/webdriver/remote/webdriver.py?line=975'>976</a>\u001b[0m \u001b[39m    \"\"\"\u001b[39;00m\n\u001b[1;32m--> <a href='file:///c%3A/Users/nicho/.virtualenvs/job-search_tool-FrUff0x-/lib/site-packages/selenium/webdriver/remote/webdriver.py?line=976'>977</a>\u001b[0m     \u001b[39mreturn\u001b[39;00m \u001b[39mself\u001b[39;49m\u001b[39m.\u001b[39;49mexecute(Command\u001b[39m.\u001b[39;49mW3C_GET_WINDOW_HANDLES)[\u001b[39m'\u001b[39m\u001b[39mvalue\u001b[39m\u001b[39m'\u001b[39m]\n",
      "File \u001b[1;32m~\\.virtualenvs\\job-search_tool-FrUff0x-\\lib\\site-packages\\selenium\\webdriver\\remote\\webdriver.py:425\u001b[0m, in \u001b[0;36mWebDriver.execute\u001b[1;34m(self, driver_command, params)\u001b[0m\n\u001b[0;32m    <a href='file:///c%3A/Users/nicho/.virtualenvs/job-search_tool-FrUff0x-/lib/site-packages/selenium/webdriver/remote/webdriver.py?line=422'>423</a>\u001b[0m response \u001b[39m=\u001b[39m \u001b[39mself\u001b[39m\u001b[39m.\u001b[39mcommand_executor\u001b[39m.\u001b[39mexecute(driver_command, params)\n\u001b[0;32m    <a href='file:///c%3A/Users/nicho/.virtualenvs/job-search_tool-FrUff0x-/lib/site-packages/selenium/webdriver/remote/webdriver.py?line=423'>424</a>\u001b[0m \u001b[39mif\u001b[39;00m response:\n\u001b[1;32m--> <a href='file:///c%3A/Users/nicho/.virtualenvs/job-search_tool-FrUff0x-/lib/site-packages/selenium/webdriver/remote/webdriver.py?line=424'>425</a>\u001b[0m     \u001b[39mself\u001b[39;49m\u001b[39m.\u001b[39;49merror_handler\u001b[39m.\u001b[39;49mcheck_response(response)\n\u001b[0;32m    <a href='file:///c%3A/Users/nicho/.virtualenvs/job-search_tool-FrUff0x-/lib/site-packages/selenium/webdriver/remote/webdriver.py?line=425'>426</a>\u001b[0m     response[\u001b[39m'\u001b[39m\u001b[39mvalue\u001b[39m\u001b[39m'\u001b[39m] \u001b[39m=\u001b[39m \u001b[39mself\u001b[39m\u001b[39m.\u001b[39m_unwrap_value(\n\u001b[0;32m    <a href='file:///c%3A/Users/nicho/.virtualenvs/job-search_tool-FrUff0x-/lib/site-packages/selenium/webdriver/remote/webdriver.py?line=426'>427</a>\u001b[0m         response\u001b[39m.\u001b[39mget(\u001b[39m'\u001b[39m\u001b[39mvalue\u001b[39m\u001b[39m'\u001b[39m, \u001b[39mNone\u001b[39;00m))\n\u001b[0;32m    <a href='file:///c%3A/Users/nicho/.virtualenvs/job-search_tool-FrUff0x-/lib/site-packages/selenium/webdriver/remote/webdriver.py?line=427'>428</a>\u001b[0m     \u001b[39mreturn\u001b[39;00m response\n",
      "File \u001b[1;32m~\\.virtualenvs\\job-search_tool-FrUff0x-\\lib\\site-packages\\selenium\\webdriver\\remote\\errorhandler.py:247\u001b[0m, in \u001b[0;36mErrorHandler.check_response\u001b[1;34m(self, response)\u001b[0m\n\u001b[0;32m    <a href='file:///c%3A/Users/nicho/.virtualenvs/job-search_tool-FrUff0x-/lib/site-packages/selenium/webdriver/remote/errorhandler.py?line=244'>245</a>\u001b[0m         alert_text \u001b[39m=\u001b[39m value[\u001b[39m'\u001b[39m\u001b[39malert\u001b[39m\u001b[39m'\u001b[39m]\u001b[39m.\u001b[39mget(\u001b[39m'\u001b[39m\u001b[39mtext\u001b[39m\u001b[39m'\u001b[39m)\n\u001b[0;32m    <a href='file:///c%3A/Users/nicho/.virtualenvs/job-search_tool-FrUff0x-/lib/site-packages/selenium/webdriver/remote/errorhandler.py?line=245'>246</a>\u001b[0m     \u001b[39mraise\u001b[39;00m exception_class(message, screen, stacktrace, alert_text)  \u001b[39m# type: ignore[call-arg]  # mypy is not smart enough here\u001b[39;00m\n\u001b[1;32m--> <a href='file:///c%3A/Users/nicho/.virtualenvs/job-search_tool-FrUff0x-/lib/site-packages/selenium/webdriver/remote/errorhandler.py?line=246'>247</a>\u001b[0m \u001b[39mraise\u001b[39;00m exception_class(message, screen, stacktrace)\n",
      "\u001b[1;31mWebDriverException\u001b[0m: Message: chrome not reachable\n  (Session info: chrome=100.0.4896.127)\nStacktrace:\nBacktrace:\n\tOrdinal0 [0x00727413+2389011]\n\tOrdinal0 [0x006B9F61+1941345]\n\tOrdinal0 [0x005AC520+836896]\n\tOrdinal0 [0x005A0682+788098]\n\tOrdinal0 [0x005940F1+737521]\n\tOrdinal0 [0x005FB12E+1159470]\n\tOrdinal0 [0x005F4113+1130771]\n\tOrdinal0 [0x005CE546+976198]\n\tOrdinal0 [0x005CF456+980054]\n\tGetHandleVerifier [0x008D9632+1727522]\n\tGetHandleVerifier [0x0098BA4D+2457661]\n\tGetHandleVerifier [0x007BEB81+569713]\n\tGetHandleVerifier [0x007BDD76+566118]\n\tOrdinal0 [0x006C0B2B+1968939]\n\tOrdinal0 [0x006C5988+1989000]\n\tOrdinal0 [0x006C5A75+1989237]\n\tOrdinal0 [0x006CECB1+2026673]\n\tBaseThreadInitThunk [0x768D6739+25]\n\tRtlGetFullPathName_UEx [0x77338E7F+1215]\n\tRtlGetFullPathName_UEx [0x77338E4D+1165]\n"
     ]
    }
   ],
   "source": [
    "\n",
    "\n",
    "nyt_jobs = []\n",
    "for job in tqdm(ls_jobs):\n",
    "    id = job[\"id\"]\n",
    "    #print(id)\n",
    "\n",
    "    elem = driver.find_element(By.XPATH,f\"//*[@id='{id}']\" )\n",
    "    actionChain = ActionChains(driver)\n",
    "    actionChain.context_click(elem).perform()\n",
    "    time.sleep(1)\n",
    "    elem2 = driver.find_element(By.XPATH,\"//*[@data-automation-id='seeInNewWindow']\" )\n",
    "    actionChain.click(elem2).perform()\n",
    "    time.sleep(2)\n",
    "    windows = driver.window_handles\n",
    "    parent = windows[0]\n",
    "    child = windows[1]\n",
    "    driver.switch_to.window(child)\n",
    "    time.sleep(2)\n",
    "    html = driver.page_source\n",
    "    soup = BeautifulSoup(html, 'html.parser')\n",
    "\n",
    "    ## Download content\n",
    "    try:\n",
    "        json_script = soup.find(\"script\", {\"type\":\"application/ld+json\"}).text\n",
    "        json_info = json.loads(json_script)\n",
    "    except:\n",
    "        pass\n",
    "    try:\n",
    "        date_posted = json_info[\"datePosted\"]\n",
    "    except:\n",
    "        date_posted = \"NA\"\n",
    "    try:\n",
    "        job_title = json_info[\"title\"]\n",
    "    except:\n",
    "        job_title = \"NA\"\n",
    "    try:\n",
    "        job_duration = json_info[\"employmentType\"]\n",
    "    except:\n",
    "        job_duration = \"NA\"\n",
    "    try:\n",
    "        job_location = soup.find(\"div\", {\"class\":[\"gwt-Label\", \"WGDP\", \"WPBP\"], \"data-automation-id\":\"promptOption\"}).text\n",
    "\n",
    "    except:\n",
    "        job_location = \"NA\"\n",
    "    try:              \n",
    "        url = soup.find(\"div\", {\"class\":\"css-b3pn3b\"})     \n",
    "        url = url.find(\"a\")\n",
    "        url = url[\"href\"]\n",
    "    except:\n",
    "        url = \"NA\"\n",
    "    job = {\"company\": \"New York Times\", \"job_title\": job_title,\"job_location\":job_location, \"job_duration\": job_duration,\"date_posted\": date_posted, \"url\":url, }\n",
    "    nyt_jobs.append(job)\n",
    "\n",
    "    # Close tab\n",
    "\n",
    "    driver.close()\n",
    "    time.sleep(5)\n",
    "    driver.switch_to.window(parent)\n"
   ]
  },
  {
   "cell_type": "code",
   "execution_count": 125,
   "metadata": {},
   "outputs": [],
   "source": [
    "df_nyt_jobs = pd.DataFrame(nyt_jobs)\n",
    "df_nyt_jobs.to_csv(\"data/nyt-jobs.csv\", index = False)"
   ]
  }
 ],
 "metadata": {
  "interpreter": {
   "hash": "63fd5069d213b44bf678585dea6b12cceca9941eaf7f819626cde1f2670de90d"
  },
  "kernelspec": {
   "display_name": "Python 3 (ipykernel)",
   "language": "python",
   "name": "python3"
  },
  "language_info": {
   "codemirror_mode": {
    "name": "ipython",
    "version": 3
   },
   "file_extension": ".py",
   "mimetype": "text/x-python",
   "name": "python",
   "nbconvert_exporter": "python",
   "pygments_lexer": "ipython3",
   "version": "3.10.0"
  }
 },
 "nbformat": 4,
 "nbformat_minor": 4
}
