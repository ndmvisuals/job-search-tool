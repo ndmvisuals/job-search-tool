{
 "cells": [
  {
   "cell_type": "code",
   "execution_count": 243,
   "metadata": {},
   "outputs": [],
   "source": [
    "import os\n",
    "import re\n",
    "import sys\n",
    "import json\n",
    "import tweepy\n",
    "import requests\n",
    "import pandas as pd\n",
    "import tweepy\n",
    "from datetime import date\n",
    "from datetime import timedelta\n"
   ]
  },
  {
   "cell_type": "code",
   "execution_count": 246,
   "metadata": {},
   "outputs": [
    {
     "data": {
      "text/plain": [
       "'2022-04-22'"
      ]
     },
     "execution_count": 246,
     "metadata": {},
     "output_type": "execute_result"
    }
   ],
   "source": [
    "\n",
    "def get_keys(path):\n",
    "    with open(path) as f:\n",
    "        return json.load(f)\n",
    "        \n",
    "keys = get_keys(\"keys.txt\")\n",
    "\n",
    "today = date.today()\n",
    "yesterday = today - timedelta(days = 1)\n",
    "yesterday.strftime(\"%Y-%m-%d\")"
   ]
  },
  {
   "cell_type": "code",
   "execution_count": 227,
   "metadata": {},
   "outputs": [],
   "source": [
    "df_wapo = pd.read_csv(\"https://raw.githubusercontent.com/ndmvisuals/job-search-tool/main/data/thewashingtonpost-jobs.csv\")\n",
    "df_wapo['date_posted'] = pd.to_datetime(df_wapo['date_posted'],format = \"%Y-%m-%d\" )\n"
   ]
  },
  {
   "cell_type": "code",
   "execution_count": 249,
   "metadata": {},
   "outputs": [],
   "source": [
    "def _summarize_job_time(df_date):\n",
    "     df_job_time = df_date[\"job_duration\"].value_counts().to_frame()\n",
    "     df_job_time.reset_index(inplace=True)\n",
    "     df_job_time = df_job_time.rename(columns = {'index':'job_type', \"job_duration\":\"number_jobs\"})\n",
    "     return(df_job_time)\n",
    "\n",
    "def _create_job_sentence(df_date):\n",
    "    df_job_time = _summarize_job_time(df_date)\n",
    "    job_duration_sentences = []\n",
    "    number_job_types = df_job_time.shape[0]\n",
    "\n",
    "    for i in range(df_job_time.shape[0]):\n",
    "        job_type = df_job_time.loc[i][\"job_type\"].lower()\n",
    "        job_numbers = df_job_time.loc[i][\"number_jobs\"]\n",
    "        job_type_sentence = f\"{job_numbers} {job_type} jobs\"\n",
    "        if number_job_types >1 :\n",
    "            if i+1 == number_job_types :\n",
    "                job_duration_sentences.append(\" and \")\n",
    "                job_duration_sentences.append(job_type_sentence)\n",
    "            \n",
    "            else:\n",
    "                if number_job_types >2:\n",
    "                    job_duration_sentences.append(f\"{job_type_sentence}, \")\n",
    "                else:\n",
    "                    job_duration_sentences.append(f\"{job_type_sentence}\")\n",
    "\n",
    "        else:        \n",
    "            job_duration_sentences.append(job_type_sentence) \n",
    "\n",
    "    sentence = \"\".join(job_duration_sentences)\n",
    "    return(sentence)\n",
    "    \n",
    "def _create_tweet_threads(df_date):\n",
    "    ls_threads = []    \n",
    "    for i in range(df_date.shape[0]):\n",
    "        job_title = df_date.loc[i][\"job_title\"]\n",
    "        job_location = df_date.loc[i][\"job_location\"]\n",
    "        job_duration = df_date.loc[i][\"job_duration\"]\n",
    "        job_url = df_date.loc[i][\"url\"]\n",
    "\n",
    "        thread = f\"Job: {job_title}{chr(10)}Location: {job_location}{chr(10)}Type: {job_duration}{chr(10)}URL: {job_url}\"\n",
    "        ls_threads.append(thread)\n",
    "\n",
    "    return(ls_threads)\n",
    "\n",
    "\n",
    "\n",
    "def construct_tweet(company, df, date, day_word):\n",
    "    # Filter jobs to specific date ---\n",
    "    df_date = (df['date_posted'] >= date) \n",
    "    df_date = df.loc[df_date]      \n",
    "\n",
    "    # Create job type summary sentences\n",
    "    job_time_sentence = _create_job_sentence(df_date)\n",
    "    tweet_threads = _create_tweet_threads(df_date)\n",
    "    main_tweet = f\"{day_word}, {company} posted {job_time_sentence}. Job titles and links posted in thread: \"   \n",
    "\n",
    "    if df_date.shape[0] >0:\n",
    "        tweet_status = \"y\"\n",
    "    else:\n",
    "        tweet_status = \"n\"\n",
    "    return(main_tweet, tweet_threads, tweet_status)\n",
    "\n",
    "def _get_tweet_id(response):    \n",
    "    response_json = json.loads(json.dumps(response[0]))\n",
    "    tweet_id = response_json[\"id\"]\n",
    "    return(tweet_id)\n",
    "\n",
    "\n",
    "def publish_tweet(main_tweet, thread_post, client):\n",
    "    \n",
    "    response = client.create_tweet(text= main_tweet)\n",
    "    main_tweet_id = _get_tweet_id(response)\n",
    "\n",
    "    for thread in thread_post:\n",
    "        client.create_tweet(text = thread, in_reply_to_tweet_id= main_tweet_id)    \n",
    "    \n",
    "   "
   ]
  },
  {
   "cell_type": "code",
   "execution_count": 240,
   "metadata": {},
   "outputs": [],
   "source": [
    "client = tweepy.Client(consumer_key= keys[\"consumer_key\"],\n",
    "                       consumer_secret= keys[\"consumer_secret\"],\n",
    "                       access_token= keys[\"access_token\"],\n",
    "                       access_token_secret= keys[\"access_token_secret\"],\n",
    "                       bearer_token= keys[\"bearer_token\"])"
   ]
  },
  {
   "cell_type": "code",
   "execution_count": 241,
   "metadata": {},
   "outputs": [],
   "source": [
    "main_tweet, thread_posts, tweet_status = construct_tweet(\"The Washington Post\", df_wapo, yesterday, \"Yesterday\")\n",
    "if tweet_status == \"y\":\n",
    "    publish_tweet(main_tweet, thread_posts, client)   \n"
   ]
  }
 ],
 "metadata": {
  "interpreter": {
   "hash": "260328e5e60e8ac5f711455d245752ecebd26044222c4fc9c2bfb9e70460e112"
  },
  "kernelspec": {
   "display_name": "Python 3.10.0 ('job-search-tool-hoOFFAgI')",
   "language": "python",
   "name": "python3"
  },
  "language_info": {
   "codemirror_mode": {
    "name": "ipython",
    "version": 3
   },
   "file_extension": ".py",
   "mimetype": "text/x-python",
   "name": "python",
   "nbconvert_exporter": "python",
   "pygments_lexer": "ipython3",
   "version": "3.10.0"
  },
  "orig_nbformat": 4
 },
 "nbformat": 4,
 "nbformat_minor": 2
}
