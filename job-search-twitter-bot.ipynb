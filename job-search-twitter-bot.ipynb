{
 "cells": [
  {
   "cell_type": "code",
   "execution_count": 11,
   "metadata": {},
   "outputs": [],
   "source": [
    "import os\n",
    "import re\n",
    "import sys\n",
    "import json\n",
    "import tweepy\n",
    "import requests\n",
    "import pandas as pd\n",
    "import tweepy\n",
    "from datetime import date"
   ]
  },
  {
   "cell_type": "code",
   "execution_count": 101,
   "metadata": {},
   "outputs": [],
   "source": [
    "\n",
    "def get_keys(path):\n",
    "    with open(path) as f:\n",
    "        return json.load(f)\n",
    "keys = get_keys(\"keys.txt\")\n",
    "\n",
    "today = date.today()\n",
    "yesterday = \"2022-04-20\""
   ]
  },
  {
   "cell_type": "code",
   "execution_count": 102,
   "metadata": {},
   "outputs": [],
   "source": [
    "df_wapo = pd.read_csv(\"https://raw.githubusercontent.com/ndmvisuals/job-search-tool/main/data/thewashingtonpost-jobs.csv\")\n",
    "df_wapo['date_posted'] = pd.to_datetime(df_wapo['date_posted'],format = \"%Y-%m-%d\" )\n"
   ]
  },
  {
   "cell_type": "code",
   "execution_count": 103,
   "metadata": {},
   "outputs": [],
   "source": [
    "def _summarize_job_time(df_date):\n",
    "     df_job_time = df_date[\"job_duration\"].value_counts().to_frame()\n",
    "     df_job_time.reset_index(inplace=True)\n",
    "     df_job_time = df_job_time.rename(columns = {'index':'job_type', \"job_duration\":\"number_jobs\"})\n",
    "     return(df_job_time)\n",
    "\n",
    "def _create_job_sentence(df_job_time):\n",
    "    job_duration_sentences = []\n",
    "    number_job_types = df_job_time.shape[0]\n",
    "\n",
    "    for i in range(df_job_time.shape[0]):\n",
    "        job_type = df_job_time.loc[i][\"job_type\"].lower()\n",
    "        job_numbers = df_job_time.loc[i][\"number_jobs\"]\n",
    "        job_type_sentence = f\"{job_numbers} {job_type} jobs\"\n",
    "        if number_job_types >1 :\n",
    "            if i+1 == number_job_types :\n",
    "                job_duration_sentences.append(\" and \")\n",
    "                job_duration_sentences.append(job_type_sentence)\n",
    "            \n",
    "            else:\n",
    "                if number_job_types >2:\n",
    "                    job_duration_sentences.append(f\"{job_type_sentence}, \")\n",
    "                else:\n",
    "                    job_duration_sentences.append(f\"{job_type_sentence}\")\n",
    "\n",
    "        else:        \n",
    "            job_duration_sentences.append(job_type_sentence) \n",
    "\n",
    "    sentence = \"\".join(job_duration_sentences)\n",
    "    return(sentence)\n",
    "    \n",
    "\n",
    "\n",
    "def construct_tweet(company, df, date, day_word):\n",
    "    # Filter jobs to specific date ---\n",
    "    df_date = (df['date_posted'] >= date) \n",
    "    df_date = df.loc[df_date]\n",
    "    # Summary jobs by job type\n",
    "    df_job_time = _summarize_job_time(df_date)\n",
    "\n",
    "    # Create job type summary sentences\n",
    "    job_time_sentence = _create_job_sentence(df_job_time)\n",
    "    main_tweet = f\"{day_word}, {company} posted {job_time_sentence}. Job titles and links posted in thread: \"\n",
    "\n",
    "    # Create a thread for each job\n",
    "\n",
    "    return(main_tweet)\n",
    "   "
   ]
  },
  {
   "cell_type": "code",
   "execution_count": 104,
   "metadata": {},
   "outputs": [],
   "source": [
    "main_tweet_message = construct_tweet(\"The Washington Post\", df_wapo, \"2022-04-22\", \"Yesterday\")"
   ]
  },
  {
   "cell_type": "code",
   "execution_count": 121,
   "metadata": {},
   "outputs": [],
   "source": [
    "client = tweepy.Client(consumer_key= keys[\"consumer_key\"],\n",
    "                       consumer_secret= keys[\"consumer_secret\"],\n",
    "                       access_token= keys[\"access_token\"],\n",
    "                       access_token_secret= keys[\"access_token_secret\"],\n",
    "                       bearer_token= keys[\"bearer_token\"])"
   ]
  },
  {
   "cell_type": "code",
   "execution_count": null,
   "metadata": {},
   "outputs": [],
   "source": [
    "auth = tweepy.OAuth1UserHandler(\n",
    "   keys[\"consumer_key\"], keys[\"consumer_secret\"], keys[\"access_token\"], keys[\"access_token_secret\"]\n",
    ")\n",
    "\n",
    "api = tweepy.API(auth)\n",
    "\n",
    "public_tweets = api.home_timeline()\n",
    "for tweet in public_tweets:\n",
    "    print(tweet.text)"
   ]
  },
  {
   "cell_type": "code",
   "execution_count": null,
   "metadata": {},
   "outputs": [],
   "source": [
    "api.user_timeline(screen_name = \"JobJournalism\")"
   ]
  },
  {
   "cell_type": "code",
   "execution_count": 106,
   "metadata": {},
   "outputs": [],
   "source": [
    "response = client.create_tweet(text= main_tweet_message)"
   ]
  },
  {
   "cell_type": "code",
   "execution_count": null,
   "metadata": {},
   "outputs": [],
   "source": [
    "client.get_user(username= \"ndm_visuals\")"
   ]
  },
  {
   "cell_type": "code",
   "execution_count": 127,
   "metadata": {},
   "outputs": [
    {
     "ename": "Unauthorized",
     "evalue": "401 Unauthorized",
     "output_type": "error",
     "traceback": [
      "\u001b[1;31m---------------------------------------------------------------------------\u001b[0m",
      "\u001b[1;31mUnauthorized\u001b[0m                              Traceback (most recent call last)",
      "\u001b[1;32mc:\\Users\\nicho\\Documents\\GitHub\\job-search-tool\\job-search-twitter-bot.ipynb Cell 11'\u001b[0m in \u001b[0;36m<cell line: 1>\u001b[1;34m()\u001b[0m\n\u001b[1;32m----> <a href='vscode-notebook-cell:/c%3A/Users/nicho/Documents/GitHub/job-search-tool/job-search-twitter-bot.ipynb#ch0000013?line=0'>1</a>\u001b[0m client\u001b[39m.\u001b[39;49mget_list_tweets(\u001b[39m\"\u001b[39;49m\u001b[39m1517697407626194944\u001b[39;49m\u001b[39m\"\u001b[39;49m)\n",
      "File \u001b[1;32m~\\.virtualenvs\\job-search-tool-hoOFFAgI\\lib\\site-packages\\tweepy\\client.py:2694\u001b[0m, in \u001b[0;36mClient.get_list_tweets\u001b[1;34m(self, id, user_auth, **params)\u001b[0m\n\u001b[0;32m   <a href='file:///c%3A/Users/nicho/.virtualenvs/job-search-tool-hoOFFAgI/lib/site-packages/tweepy/client.py?line=2652'>2653</a>\u001b[0m \u001b[39mdef\u001b[39;00m \u001b[39mget_list_tweets\u001b[39m(\u001b[39mself\u001b[39m, \u001b[39mid\u001b[39m, \u001b[39m*\u001b[39m, user_auth\u001b[39m=\u001b[39m\u001b[39mFalse\u001b[39;00m, \u001b[39m*\u001b[39m\u001b[39m*\u001b[39mparams):\n\u001b[0;32m   <a href='file:///c%3A/Users/nicho/.virtualenvs/job-search-tool-hoOFFAgI/lib/site-packages/tweepy/client.py?line=2653'>2654</a>\u001b[0m     \u001b[39m\"\"\"get_list_tweets( \\\u001b[39;00m\n\u001b[0;32m   <a href='file:///c%3A/Users/nicho/.virtualenvs/job-search-tool-hoOFFAgI/lib/site-packages/tweepy/client.py?line=2654'>2655</a>\u001b[0m \u001b[39m        id, *, expansions=None, max_results=None, pagination_token=None, \\\u001b[39;00m\n\u001b[0;32m   <a href='file:///c%3A/Users/nicho/.virtualenvs/job-search-tool-hoOFFAgI/lib/site-packages/tweepy/client.py?line=2655'>2656</a>\u001b[0m \u001b[39m        tweet_fields=None, user_fields=None, user_auth=False \\\u001b[39;00m\n\u001b[1;32m   (...)\u001b[0m\n\u001b[0;32m   <a href='file:///c%3A/Users/nicho/.virtualenvs/job-search-tool-hoOFFAgI/lib/site-packages/tweepy/client.py?line=2691'>2692</a>\u001b[0m \u001b[39m    https://developer.twitter.com/en/docs/twitter-api/lists/list-tweets/api-reference/get-lists-id-tweets\u001b[39;00m\n\u001b[0;32m   <a href='file:///c%3A/Users/nicho/.virtualenvs/job-search-tool-hoOFFAgI/lib/site-packages/tweepy/client.py?line=2692'>2693</a>\u001b[0m \u001b[39m    \"\"\"\u001b[39;00m\n\u001b[1;32m-> <a href='file:///c%3A/Users/nicho/.virtualenvs/job-search-tool-hoOFFAgI/lib/site-packages/tweepy/client.py?line=2693'>2694</a>\u001b[0m     \u001b[39mreturn\u001b[39;00m \u001b[39mself\u001b[39;49m\u001b[39m.\u001b[39;49m_make_request(\n\u001b[0;32m   <a href='file:///c%3A/Users/nicho/.virtualenvs/job-search-tool-hoOFFAgI/lib/site-packages/tweepy/client.py?line=2694'>2695</a>\u001b[0m         \u001b[39m\"\u001b[39;49m\u001b[39mGET\u001b[39;49m\u001b[39m\"\u001b[39;49m, \u001b[39mf\u001b[39;49m\u001b[39m\"\u001b[39;49m\u001b[39m/2/lists/\u001b[39;49m\u001b[39m{\u001b[39;49;00m\u001b[39mid\u001b[39;49m\u001b[39m}\u001b[39;49;00m\u001b[39m/tweets\u001b[39;49m\u001b[39m\"\u001b[39;49m, params\u001b[39m=\u001b[39;49mparams,\n\u001b[0;32m   <a href='file:///c%3A/Users/nicho/.virtualenvs/job-search-tool-hoOFFAgI/lib/site-packages/tweepy/client.py?line=2695'>2696</a>\u001b[0m         endpoint_parameters\u001b[39m=\u001b[39;49m(\n\u001b[0;32m   <a href='file:///c%3A/Users/nicho/.virtualenvs/job-search-tool-hoOFFAgI/lib/site-packages/tweepy/client.py?line=2696'>2697</a>\u001b[0m             \u001b[39m\"\u001b[39;49m\u001b[39mexpansions\u001b[39;49m\u001b[39m\"\u001b[39;49m, \u001b[39m\"\u001b[39;49m\u001b[39mmax_results\u001b[39;49m\u001b[39m\"\u001b[39;49m, \u001b[39m\"\u001b[39;49m\u001b[39mpagination_token\u001b[39;49m\u001b[39m\"\u001b[39;49m,\n\u001b[0;32m   <a href='file:///c%3A/Users/nicho/.virtualenvs/job-search-tool-hoOFFAgI/lib/site-packages/tweepy/client.py?line=2697'>2698</a>\u001b[0m             \u001b[39m\"\u001b[39;49m\u001b[39mtweet.fields\u001b[39;49m\u001b[39m\"\u001b[39;49m, \u001b[39m\"\u001b[39;49m\u001b[39muser.fields\u001b[39;49m\u001b[39m\"\u001b[39;49m\n\u001b[0;32m   <a href='file:///c%3A/Users/nicho/.virtualenvs/job-search-tool-hoOFFAgI/lib/site-packages/tweepy/client.py?line=2698'>2699</a>\u001b[0m         ), data_type\u001b[39m=\u001b[39;49mTweet, user_auth\u001b[39m=\u001b[39;49muser_auth\n\u001b[0;32m   <a href='file:///c%3A/Users/nicho/.virtualenvs/job-search-tool-hoOFFAgI/lib/site-packages/tweepy/client.py?line=2699'>2700</a>\u001b[0m     )\n",
      "File \u001b[1;32m~\\.virtualenvs\\job-search-tool-hoOFFAgI\\lib\\site-packages\\tweepy\\client.py:126\u001b[0m, in \u001b[0;36mBaseClient._make_request\u001b[1;34m(self, method, route, params, endpoint_parameters, json, data_type, user_auth)\u001b[0m\n\u001b[0;32m    <a href='file:///c%3A/Users/nicho/.virtualenvs/job-search-tool-hoOFFAgI/lib/site-packages/tweepy/client.py?line=121'>122</a>\u001b[0m \u001b[39mdef\u001b[39;00m \u001b[39m_make_request\u001b[39m(\u001b[39mself\u001b[39m, method, route, params\u001b[39m=\u001b[39m{}, endpoint_parameters\u001b[39m=\u001b[39m\u001b[39mNone\u001b[39;00m,\n\u001b[0;32m    <a href='file:///c%3A/Users/nicho/.virtualenvs/job-search-tool-hoOFFAgI/lib/site-packages/tweepy/client.py?line=122'>123</a>\u001b[0m                   json\u001b[39m=\u001b[39m\u001b[39mNone\u001b[39;00m, data_type\u001b[39m=\u001b[39m\u001b[39mNone\u001b[39;00m, user_auth\u001b[39m=\u001b[39m\u001b[39mFalse\u001b[39;00m):\n\u001b[0;32m    <a href='file:///c%3A/Users/nicho/.virtualenvs/job-search-tool-hoOFFAgI/lib/site-packages/tweepy/client.py?line=123'>124</a>\u001b[0m     request_params \u001b[39m=\u001b[39m \u001b[39mself\u001b[39m\u001b[39m.\u001b[39m_process_params(params, endpoint_parameters)\n\u001b[1;32m--> <a href='file:///c%3A/Users/nicho/.virtualenvs/job-search-tool-hoOFFAgI/lib/site-packages/tweepy/client.py?line=125'>126</a>\u001b[0m     response \u001b[39m=\u001b[39m \u001b[39mself\u001b[39;49m\u001b[39m.\u001b[39;49mrequest(method, route, params\u001b[39m=\u001b[39;49mrequest_params,\n\u001b[0;32m    <a href='file:///c%3A/Users/nicho/.virtualenvs/job-search-tool-hoOFFAgI/lib/site-packages/tweepy/client.py?line=126'>127</a>\u001b[0m                             json\u001b[39m=\u001b[39;49mjson, user_auth\u001b[39m=\u001b[39;49muser_auth)\n\u001b[0;32m    <a href='file:///c%3A/Users/nicho/.virtualenvs/job-search-tool-hoOFFAgI/lib/site-packages/tweepy/client.py?line=128'>129</a>\u001b[0m     \u001b[39mif\u001b[39;00m \u001b[39mself\u001b[39m\u001b[39m.\u001b[39mreturn_type \u001b[39mis\u001b[39;00m requests\u001b[39m.\u001b[39mResponse:\n\u001b[0;32m    <a href='file:///c%3A/Users/nicho/.virtualenvs/job-search-tool-hoOFFAgI/lib/site-packages/tweepy/client.py?line=129'>130</a>\u001b[0m         \u001b[39mreturn\u001b[39;00m response\n",
      "File \u001b[1;32m~\\.virtualenvs\\job-search-tool-hoOFFAgI\\lib\\site-packages\\tweepy\\client.py:97\u001b[0m, in \u001b[0;36mBaseClient.request\u001b[1;34m(self, method, route, params, json, user_auth)\u001b[0m\n\u001b[0;32m     <a href='file:///c%3A/Users/nicho/.virtualenvs/job-search-tool-hoOFFAgI/lib/site-packages/tweepy/client.py?line=94'>95</a>\u001b[0m     \u001b[39mraise\u001b[39;00m BadRequest(response)\n\u001b[0;32m     <a href='file:///c%3A/Users/nicho/.virtualenvs/job-search-tool-hoOFFAgI/lib/site-packages/tweepy/client.py?line=95'>96</a>\u001b[0m \u001b[39mif\u001b[39;00m response\u001b[39m.\u001b[39mstatus_code \u001b[39m==\u001b[39m \u001b[39m401\u001b[39m:\n\u001b[1;32m---> <a href='file:///c%3A/Users/nicho/.virtualenvs/job-search-tool-hoOFFAgI/lib/site-packages/tweepy/client.py?line=96'>97</a>\u001b[0m     \u001b[39mraise\u001b[39;00m Unauthorized(response)\n\u001b[0;32m     <a href='file:///c%3A/Users/nicho/.virtualenvs/job-search-tool-hoOFFAgI/lib/site-packages/tweepy/client.py?line=97'>98</a>\u001b[0m \u001b[39mif\u001b[39;00m response\u001b[39m.\u001b[39mstatus_code \u001b[39m==\u001b[39m \u001b[39m403\u001b[39m:\n\u001b[0;32m     <a href='file:///c%3A/Users/nicho/.virtualenvs/job-search-tool-hoOFFAgI/lib/site-packages/tweepy/client.py?line=98'>99</a>\u001b[0m     \u001b[39mraise\u001b[39;00m Forbidden(response)\n",
      "\u001b[1;31mUnauthorized\u001b[0m: 401 Unauthorized"
     ]
    }
   ],
   "source": [
    "client.get_list_tweets(\"1517697407626194944\")"
   ]
  },
  {
   "cell_type": "code",
   "execution_count": 110,
   "metadata": {},
   "outputs": [],
   "source": [
    "thread = client.create_tweet(text = \"testing thread\", in_reply_to_tweet_id= \"1517899548898779136\" )"
   ]
  }
 ],
 "metadata": {
  "interpreter": {
   "hash": "260328e5e60e8ac5f711455d245752ecebd26044222c4fc9c2bfb9e70460e112"
  },
  "kernelspec": {
   "display_name": "Python 3.10.0 ('job-search-tool-hoOFFAgI')",
   "language": "python",
   "name": "python3"
  },
  "language_info": {
   "codemirror_mode": {
    "name": "ipython",
    "version": 3
   },
   "file_extension": ".py",
   "mimetype": "text/x-python",
   "name": "python",
   "nbconvert_exporter": "python",
   "pygments_lexer": "ipython3",
   "version": "3.10.0"
  },
  "orig_nbformat": 4
 },
 "nbformat": 4,
 "nbformat_minor": 2
}
